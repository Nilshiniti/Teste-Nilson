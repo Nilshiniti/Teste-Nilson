{
  "nbformat": 4,
  "nbformat_minor": 0,
  "metadata": {
    "colab": {
      "provenance": [],
      "include_colab_link": true
    },
    "kernelspec": {
      "name": "python3",
      "display_name": "Python 3"
    },
    "language_info": {
      "name": "python"
    }
  },
  "cells": [
    {
      "cell_type": "markdown",
      "metadata": {
        "id": "view-in-github",
        "colab_type": "text"
      },
      "source": [
        "<a href=\"https://colab.research.google.com/github/Nilshiniti/Teste-Nilson/blob/main/Aula_1_Fundamentos_da_L%C3%B3gica_para_IA_e_o_Desafio_da_Manufatura.ipynb\" target=\"_parent\"><img src=\"https://colab.research.google.com/assets/colab-badge.svg\" alt=\"Open In Colab\"/></a>"
      ]
    },
    {
      "cell_type": "markdown",
      "source": [
        "# 🧑‍🏫 Aula 1 - Fundamentos da Lógica para IA e o Desafio da Manufatura\n",
        "Bem-vindos à Unidade Curricular de Lógica para Inteligência Artificial!\n",
        "\n",
        "O nosso objetivo aqui não é primariamente aprender uma linguagem de programação, mas sim algo muito mais fundamental: aprender a estruturar o raciocínio. Vamos construir o \"esqueleto\" lógico que permite a um sistema de Inteligência Artificial tomar decisões, resolver problemas e, no nosso caso, prever falhas em um ambiente industrial complexo.\n",
        "\n",
        "**Nosso Desafio: A Situação de Aprendizagem** <br>\n",
        "Imagine que somos uma equipe de especialistas contratada por uma grande fabricante de componentes automotivos. A empresa está com um problema crítico: sua linha de montagem, operada por robôs de solda de alta precisão, sofre com paradas inesperadas. Cada parada custa milhares de reais em produção perdida e pode causar atrasos em toda a cadeia de suprimentos.\n",
        "\n",
        "A boa notícia é que eles têm dados! Sensores em cada robô coletam informações sobre vibração, temperatura, corrente elétrica do motor e o número de ciclos de trabalho.\n",
        "\n",
        "Nossa missão ao longo desta UC é projetar a \"mente\" de um sistema especialista que utilize esses dados para prever quando um robô está prestes a falhar. Não vamos construir o sistema em si, mas sim o seu modelo lógico: as regras, os fatos e a estrutura de raciocínio que ele usará para transformar dados brutos em alertas de manutenção preditiva."
      ],
      "metadata": {
        "id": "uoY85c-AWtB9"
      }
    },
    {
      "cell_type": "markdown",
      "source": [
        "**Lógica para IA vs. Lógica de Programação: O \"Quê\" vs. o \"Como\"**\n",
        "------------------------------------------------------------------\n",
        "\n",
        "É crucial entender a diferença entre a lógica que usaremos aqui e a lógica de programação tradicional (if/else, for, while).\n",
        "\n",
        "*   **Lógica de Programação (Imperativa):** Diz ao computador **COMO** fazer algo, passo a passo. É uma receita de bolo.\n",
        "    \n",
        "    *   _Exemplo:_ se temperatura > 90 então execute a função alerta()\n",
        "        \n",
        "    *   O foco está no **fluxo de controle** e na execução de procedimentos.\n",
        "        \n",
        "*   **Lógica para IA (Declarativa):** Descreve **O QUE** é verdade no mundo. É como um conjunto de leis da física ou axiomas da matemática. O sistema usa essas \"leis\" para descobrir as consequências por conta própria.\n",
        "    \n",
        "    *   _Exemplo:_\n",
        "        \n",
        "        1.  Declaramos um fato: Temperatura(Robo\\_01, 95).\n",
        "            \n",
        "        2.  Declaramos uma regra: Para todo robô R, se Temperatura(R, T) e T > 90, então Estado(R, Em\\_Risco).\n",
        "            \n",
        "    *   O foco está na **representação do conhecimento** e na **inferência** (a capacidade de chegar a novas conclusões).\n",
        "        \n",
        "\n",
        "Nós vamos trabalhar com a segunda abordagem. Vamos definir o conhecimento e as regras do jogo, e a partir daí, o sistema de IA poderá \"raciocinar\"."
      ],
      "metadata": {
        "id": "tLfB48iyXboJ"
      }
    },
    {
      "cell_type": "markdown",
      "source": [
        "**Os Três Tipos de Raciocínio**\n",
        "-------------------------------\n",
        "\n",
        "Para construir as regras do nosso sistema, nós, como humanos, usamos diferentes formas de raciocínio. Um sistema de IA também pode ser projetado para usar essas formas.\n",
        "\n",
        "#### **1\\. Raciocínio Dedutivo (Do Geral para o Específico)**\n",
        "\n",
        "É o raciocínio da certeza. Partimos de uma regra geral (premissa maior) e um fato específico (premissa menor) para chegar a uma conclusão inevitável. Este será o principal modo de operação do nosso sistema especialista.\n",
        "\n",
        "*   **Exemplo Geral:**\n",
        "    \n",
        "    *   _Regra:_ Todo ser humano é mortal.\n",
        "        \n",
        "    *   _Fato:_ Sócrates é um ser humano.\n",
        "        \n",
        "    *   _Conclusão Dedutiva:_ Portanto, Sócrates é mortal.\n",
        "        \n",
        "*   **No nosso Case:**\n",
        "    \n",
        "    *   _Regra:_ \"Todo robô cujo contador de ciclos ultrapassa 50.000 deve ser inspecionado.\"\n",
        "        \n",
        "    *   _Fato:_ \"O sensor do Robô\\_02 indica 51.240 ciclos.\"\n",
        "        \n",
        "    *   _Conclusão Dedutiva:_ \"Portanto, o Robô\\_02 deve ser inspecionado.\"\n",
        "        \n",
        "\n",
        "#### **2\\. Raciocínio Indutivo (Do Específico para o Geral)**\n",
        "\n",
        "É o raciocínio da generalização e do aprendizado. Observamos vários exemplos específicos e tentamos criar uma regra geral. É a base do Machine Learning e de como os especialistas humanos criam conhecimento. A conclusão é provável, mas não 100% garantida.\n",
        "\n",
        "*   **Exemplo Geral:**\n",
        "    \n",
        "    *   _Fatos:_ Este cisne é branco. Aquele cisne é branco. Todos os cisnes que vi até hoje são brancos.\n",
        "        \n",
        "    *   _Conclusão Indutiva:_ Portanto, é provável que todos os cisnes sejam brancos.\n",
        "        \n",
        "*   **No nosso Case:**\n",
        "    \n",
        "    *   _Fatos:_ \"O Robô\\_04 falhou, e antes disso sua vibração estava alta. O Robô\\_07 falhou, e sua vibração também estava alta. O Robô\\_01 falhou, e sua vibração estava igualmente alta.\"\n",
        "        \n",
        "    *   _Conclusão Indutiva:_ \"Portanto, uma vibração alta parece ser um indicador geral de risco de falha.\" (Esta hipótese se torna uma candidata a regra no nosso sistema).\n",
        "        \n",
        "\n",
        "#### **3\\. Raciocínio por Analogia (De um Específico para outro Específico)**\n",
        "\n",
        "É o raciocínio da comparação. Usamos o conhecimento sobre uma situação para inferir algo sobre outra situação semelhante.\n",
        "\n",
        "*   **Exemplo Geral:**\n",
        "    \n",
        "    *   _Fato:_ Um motor de carro precisa de óleo para não fundir.\n",
        "        \n",
        "    *   _Conclusão por Analogia:_ Portanto, o motor de uma moto, por ser semelhante, também deve precisar de óleo.\n",
        "        \n",
        "*   **No nosso Case:**\n",
        "    \n",
        "    *   _Fato:_ \"Sabemos que no Robô\\_03, que é do Modelo 'AX-100', uma pequena queda na corrente elétrica indicou uma falha no motor de solda.\"\n",
        "        \n",
        "    *   _Conclusão por Analogia:_ \"O Robô\\_08, que é do novo Modelo 'AX-200' mas usa um motor de solda parecido, está mostrando a mesma queda de corrente. Portanto, ele também pode estar com risco de falha no motor de solda.\""
      ],
      "metadata": {
        "id": "7tJEVM_YXvXf"
      }
    },
    {
      "cell_type": "code",
      "execution_count": null,
      "metadata": {
        "colab": {
          "base_uri": "https://localhost:8080/"
        },
        "id": "iaTyKL1hWnMb",
        "outputId": "449a29ec-83b5-49e9-aaf2-d5fb72b33fab"
      },
      "outputs": [
        {
          "output_type": "stream",
          "name": "stdout",
          "text": [
            "--- Exemplo Dedutivo ---\n",
            "Regras: {'R1': \"SE a temperatura de um robô é 'alta' E a vibração é 'alta', ENTÃO o estado do robô é 'crítico'.\", 'R2': \"SE o estado de um robô é 'crítico', ENTÃO gerar um alerta de 'manutenção imediata'.\"}\n",
            "Fatos Iniciais: {'Robo_05': {'temperatura': 'alta', 'vibração': 'alta'}}\n",
            "Conclusão Final: Gerar alerta de 'manutenção imediata' para o Robô_05.\n"
          ]
        }
      ],
      "source": [
        "#-------------------------------------------------------------------\n",
        "# Exemplo de Raciocínio DEDUTIVO\n",
        "# O sistema opera com base em regras e fatos pré-definidos.\n",
        "#-------------------------------------------------------------------\n",
        "\n",
        "# 1. BASE DE CONHECIMENTO (Regras Gerais, criadas por especialistas)\n",
        "#    Poderia ser um arquivo de texto, um banco de dados, etc.\n",
        "regras_dedutivas = {\n",
        "    \"R1\": \"SE a temperatura de um robô é 'alta' E a vibração é 'alta', ENTÃO o estado do robô é 'crítico'.\",\n",
        "    \"R2\": \"SE o estado de um robô é 'crítico', ENTÃO gerar um alerta de 'manutenção imediata'.\"\n",
        "}\n",
        "\n",
        "# 2. BASE DE FATOS (Leituras dos sensores em tempo real)\n",
        "#    Estes são os dados que alimentam o sistema.\n",
        "fatos_atuais = {\n",
        "    \"Robo_05\": {\n",
        "        \"temperatura\": \"alta\",  # Fato específico 1\n",
        "        \"vibração\": \"alta\",     # Fato específico 2\n",
        "        \"estado\": None          # Estado inicial desconhecido\n",
        "    }\n",
        "}\n",
        "\n",
        "# 3. PROCESSO DE INFERÊNCIA DEDUTIVA (O que o sistema faz)\n",
        "#    O motor de inferência aplicaria as regras aos fatos.\n",
        "\n",
        "# Passo 1: Aplicar a Regra R1\n",
        "# O sistema verifica: fatos_atuais[\"Robo_05\"][\"temperatura\"] == \"alta\" (VERDADEIRO)\n",
        "#                    E fatos_atuais[\"Robo_05\"][\"vibração\"] == \"alta\" (VERDADEIRO)\n",
        "# Conclusão Intermediária: O novo estado do Robô_05 é 'crítico'.\n",
        "# O sistema atualiza a base de fatos:\n",
        "fatos_atuais[\"Robo_05\"][\"estado\"] = \"crítico\"\n",
        "\n",
        "# Passo 2: Aplicar a Regra R2\n",
        "# O sistema verifica: fatos_atuais[\"Robo_05\"][\"estado\"] == \"crítico\" (VERDADEIRO)\n",
        "# Conclusão Final: Gerar um alerta de 'manutenção imediata' para o Robô_05.\n",
        "\n",
        "print(\"--- Exemplo Dedutivo ---\")\n",
        "print(f\"Regras: {regras_dedutivas}\")\n",
        "print(f\"Fatos Iniciais: {{'Robo_05': {{'temperatura': 'alta', 'vibração': 'alta'}}}}\")\n",
        "print(f\"Conclusão Final: Gerar alerta de 'manutenção imediata' para o Robô_05.\")"
      ]
    },
    {
      "cell_type": "code",
      "source": [
        "#-------------------------------------------------------------------\n",
        "# Exemplo de Raciocínio INDUTIVO\n",
        "# Este processo acontece ANTES, para CRIAR as regras que o\n",
        "# sistema dedutivo irá usar. É um trabalho de análise.\n",
        "#-------------------------------------------------------------------\n",
        "\n",
        "# 1. DADOS HISTÓRICOS (Log de falhas passadas)\n",
        "#    Isso poderia ser uma tabela gigante em um banco de dados.\n",
        "historico_de_falhas = [\n",
        "    {\"id_robo\": \"Robo_01\", \"temp_1h_antes\": \"normal\", \"vibracao_1h_antes\": \"alta\", \"falhou\": True},\n",
        "    {\"id_robo\": \"Robo_02\", \"temp_1h_antes\": \"alta\", \"vibracao_1h_antes\": \"normal\", \"falhou\": False},\n",
        "    {\"id_robo\": \"Robo_03\", \"temp_1h_antes\": \"alta\", \"vibracao_1h_antes\": \"alta\", \"falhou\": True},\n",
        "    {\"id_robo\": \"Robo_04\", \"temp_1h_antes\": \"normal\", \"vibracao_1h_antes\": \"alta\", \"falhou\": True},\n",
        "]\n",
        "\n",
        "# 2. PROCESSO DE ANÁLISE INDUTIVA (Feito por um especialista ou algoritmo de Machine Learning)\n",
        "#    O especialista analisa os dados e percebe um padrão.\n",
        "#\n",
        "#    Observação 1: \"Quando a vibração era 'alta' (Robo_01, Robo_04), a falha ocorreu.\"\n",
        "#    Observação 2: \"Quando a vibração era 'alta' e a temperatura 'alta' (Robo_03), a falha também ocorreu.\"\n",
        "#    Observação 3: \"Quando a vibração era 'normal' (Robo_02), a falha não ocorreu.\"\n",
        "#\n",
        "#    O especialista pode, então, generalizar uma hipótese.\n",
        "\n",
        "# 3. CRIAÇÃO DE UMA NOVA REGRA\n",
        "#    Esta hipótese é formalizada e adicionada à base de conhecimento do sistema dedutivo.\n",
        "nova_regra_criada_por_inducao = \"SE a vibração de um robô é 'alta', ENTÃO o estado do robô é 'em risco'.\"\n",
        "\n",
        "print(\"\\n--- Exemplo Indutivo ---\")\n",
        "print(f\"Analisando dados históricos: {historico_de_falhas}\")\n",
        "print(f\"Nova regra criada a partir da análise: '{nova_regra_criada_por_inducao}'\")\n",
        "print(\"Esta regra agora pode ser adicionada à nossa base de conhecimento para uso futuro.\")"
      ],
      "metadata": {
        "colab": {
          "base_uri": "https://localhost:8080/"
        },
        "id": "0E3bdOOMX2xD",
        "outputId": "6a6fa64e-c01e-4d41-e42a-9e4a2ef79917"
      },
      "execution_count": null,
      "outputs": [
        {
          "output_type": "stream",
          "name": "stdout",
          "text": [
            "\n",
            "--- Exemplo Indutivo ---\n",
            "Analisando dados históricos: [{'id_robo': 'Robo_01', 'temp_1h_antes': 'normal', 'vibracao_1h_antes': 'alta', 'falhou': True}, {'id_robo': 'Robo_02', 'temp_1h_antes': 'alta', 'vibracao_1h_antes': 'normal', 'falhou': False}, {'id_robo': 'Robo_03', 'temp_1h_antes': 'alta', 'vibracao_1h_antes': 'alta', 'falhou': True}, {'id_robo': 'Robo_04', 'temp_1h_antes': 'normal', 'vibracao_1h_antes': 'alta', 'falhou': True}]\n",
            "Nova regra criada a partir da análise: 'SE a vibração de um robô é 'alta', ENTÃO o estado do robô é 'em risco'.'\n",
            "Esta regra agora pode ser adicionada à nossa base de conhecimento para uso futuro.\n"
          ]
        }
      ]
    },
    {
      "cell_type": "markdown",
      "source": [
        "**📝 Atividade Prática da Aula 1**\n",
        "----------------------------------\n",
        "\n",
        "Agora é a sua vez! Em grupos, discutam e estruturem respostas para os seguintes cenários, identificando o tipo de raciocínio principal em cada um.\n",
        "\n",
        "**Cenário 1 (Dedução):**\n",
        "\n",
        "*   **Regra Conhecida:** \"Qualquer robô que opere por mais de 1.000 horas contínuas sem uma pausa para resfriamento entra em estado de 'superaquecimento potencial'\".\n",
        "    \n",
        "*   **Fato do Sistema:** O log do \"Robô\\_06\" mostra que ele está operando há 1.023 horas sem pausa.\n",
        "    \n",
        "*   **Pergunta:** Qual é a conclusão lógica e inevitável que nosso sistema deve tirar?\n",
        "    \n",
        "\n",
        "**Cenário 2 (Indução):**\n",
        "\n",
        "*   **Dados:** Vocês recebem a seguinte tabela de logs simplificada.\n",
        "    \n",
        "### Tabela\n",
        "```csv\n",
        "Robô,Corrente Elétrica,Vibração,Resultado\n",
        "R_09,Estável,Baixa,Operou OK\n",
        "R_10,Oscilando,Alta,Falhou\n",
        "R_11,Estável,Baixa,Operou OK\n",
        "R_12,Oscilando,Alta,Falhou\n",
        "```\n",
        "\n",
        "*   **Pergunta:** Qual padrão vocês conseguem observar? Que regra geral (hipótese) vocês poderiam criar para adicionar ao nosso sistema especialista com base nesses dados?\n",
        "\n",
        "* Resposta: Se a Corrente Elétrica estiver Oscilando e a Vibração for Alta o resultado será Falhou\n",
        "    \n",
        "\n",
        "**Cenário 3 (Analogia):**\n",
        "\n",
        "*   **Conhecimento Prévio:** O especialista da fábrica sabe que a poeira metálica da solda, quando acumula nos sensores do Robô\\_Modelo\\_Antigo, causa leituras de temperatura falsamente baixas, escondendo um superaquecimento real.\n",
        "    \n",
        "*   **Situação Nova:** Um novo robô, de um modelo totalmente diferente (Robô\\_Modelo\\_Novo), foi instalado. Ele está mostrando leituras de temperatura consistentemente baixas, mas o técnico sente um calor irradiando dele.\n",
        "    \n",
        "*   **Pergunta:** Usando o raciocínio por analogia, qual deveria ser a preocupação do técnico e que verificação ele deveria fazer?\n",
        "\n",
        "* Resposta:Se há poeira metálica da solda acumulada nos sensores do Robô\n",
        "\n"
      ],
      "metadata": {
        "id": "jOJtWXv8YLVd"
      }
    },
    {
      "cell_type": "markdown",
      "source": [
        "**Conclusão e Próximos Passos**\n",
        "-------------------------------\n",
        "\n",
        "Hoje, estabelecemos a fundação do nosso projeto. Entendemos a importância da lógica como a ferramenta para estruturar o conhecimento e o raciocínio de um sistema de IA. Vimos como os raciocínios dedutivo, indutivo e analógico se complementam para criar e operar um sistema especialista como o que vamos projetar.\n",
        "\n",
        "O raciocínio humano é poderoso, mas muitas vezes ambíguo. Para que um computador possa trabalhar com nossas regras, precisamos de uma linguagem formal, precisa e sem espaço para dupla interpretação.\n",
        "\n",
        "Na próxima aula, daremos o primeiro passo nessa formalização, aprendendo a sintaxe e a semântica da **Lógica Proposicional**, nossa primeira ferramenta para traduzir o conhecimento sobre os robôs em uma linguagem que uma máquina pode processar."
      ],
      "metadata": {
        "id": "8fuhxaZYYPOy"
      }
    }
  ]
}
